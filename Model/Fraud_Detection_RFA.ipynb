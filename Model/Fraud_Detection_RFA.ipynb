{
 "cells": [
  {
   "cell_type": "code",
   "execution_count": 1,
   "id": "f29d459c",
   "metadata": {},
   "outputs": [],
   "source": [
    "import pandas as pd\n",
    "import matplotlib.pyplot as plt\n",
    "from sklearn.model_selection import train_test_split\n",
    "from sklearn.preprocessing import StandardScaler, OneHotEncoder\n",
    "from sklearn.compose import ColumnTransformer\n",
    "from sklearn.pipeline import Pipeline\n",
    "from sklearn.ensemble import RandomForestClassifier\n",
    "from sklearn.metrics import accuracy_score, precision_score, recall_score, f1_score, confusion_matrix, classification_report\n",
    "import time\n"
   ]
  },
  {
   "cell_type": "code",
   "execution_count": 2,
   "id": "5834217b",
   "metadata": {},
   "outputs": [
    {
     "name": "stdout",
     "output_type": "stream",
     "text": [
      "<class 'pandas.core.frame.DataFrame'>\n",
      "RangeIndex: 594643 entries, 0 to 594642\n",
      "Data columns (total 10 columns):\n",
      " #   Column       Non-Null Count   Dtype  \n",
      "---  ------       --------------   -----  \n",
      " 0   step         594643 non-null  int64  \n",
      " 1   customer     594643 non-null  object \n",
      " 2   age          594643 non-null  object \n",
      " 3   gender       594643 non-null  object \n",
      " 4   zipcodeOri   594643 non-null  object \n",
      " 5   merchant     594643 non-null  object \n",
      " 6   zipMerchant  594643 non-null  object \n",
      " 7   category     594643 non-null  object \n",
      " 8   amount       594643 non-null  float64\n",
      " 9   fraud        594643 non-null  int64  \n",
      "dtypes: float64(1), int64(2), object(7)\n",
      "memory usage: 45.4+ MB\n",
      "None\n"
     ]
    }
   ],
   "source": [
    "# Load data from CSV\n",
    "df = pd.read_csv('Fraud Detection on Bank Payments.csv')  # Replace 'path_to_your_file.csv' with your actual file path\n",
    "print(df.info())\n",
    "# Separate features and target variable\n",
    "X = df.drop(columns=['fraud'])  # Features\n",
    "y = df['fraud']  # Target variable"
   ]
  },
  {
   "cell_type": "code",
   "execution_count": 3,
   "id": "17566c43",
   "metadata": {},
   "outputs": [
    {
     "data": {
      "text/plain": [
       "594643"
      ]
     },
     "execution_count": 3,
     "metadata": {},
     "output_type": "execute_result"
    }
   ],
   "source": [
    "len(df.index)"
   ]
  },
  {
   "cell_type": "code",
   "execution_count": 8,
   "id": "65e79eaf",
   "metadata": {},
   "outputs": [],
   "source": [
    "# Convert categorical variables to numerical using one-hot encoding\n",
    "categorical_features = ['customer', 'age', 'gender', 'zipcodeOri', 'merchant', 'zipMerchant', 'category']\n",
    "numeric_features = ['step', 'amount']\n",
    "\n",
    "# Preprocessing pipeline\n",
    "numeric_transformer = Pipeline(steps=[\n",
    "    ('scaler', StandardScaler())\n",
    "])\n",
    "\n",
    "categorical_transformer = Pipeline(steps=[\n",
    "    ('onehot', OneHotEncoder(handle_unknown='ignore'))\n",
    "])\n",
    "\n",
    "preprocessor = ColumnTransformer(\n",
    "    transformers=[\n",
    "        ('num', numeric_transformer, numeric_features),\n",
    "        ('cat', categorical_transformer, categorical_features)\n",
    "    ])\n",
    "\n",
    "# Split the data into training and testing sets\n",
    "X_train, X_test, y_train, y_test = train_test_split(X, y, test_size=0.3, random_state=42)\n",
    "\n",
    "# Example model: RandomForest with class weighting\n",
    "rf = Pipeline(steps=[\n",
    "    ('preprocessor', preprocessor),\n",
    "    ('classifier', RandomForestClassifier(n_estimators=100, random_state=42, class_weight='balanced'))\n",
    "])"
   ]
  },
  {
   "cell_type": "code",
   "execution_count": 9,
   "id": "d32b0751",
   "metadata": {},
   "outputs": [
    {
     "name": "stdout",
     "output_type": "stream",
     "text": [
      "Gradient Boosting Accuracy: 0.9961994024429209\n",
      "Precision: 0.8946212952799122\n",
      "Recall: 0.7703213610586012\n",
      "F1 Score: 0.8278313864906044\n",
      "Confusion Matrix: \n",
      "[[176085    192]\n",
      " [   486   1630]]\n",
      "Time taken: 117.67541146278381 seconds\n",
      "\n",
      "Classification Report:\n",
      "              precision    recall  f1-score   support\n",
      "\n",
      "           0       1.00      1.00      1.00    176277\n",
      "           1       0.89      0.77      0.83      2116\n",
      "\n",
      "    accuracy                           1.00    178393\n",
      "   macro avg       0.95      0.88      0.91    178393\n",
      "weighted avg       1.00      1.00      1.00    178393\n",
      "\n"
     ]
    }
   ],
   "source": [
    "from sklearn.ensemble import GradientBoostingClassifier\n",
    "\n",
    "# Gradient Boosting model\n",
    "gb = Pipeline(steps=[\n",
    "    ('preprocessor', preprocessor),\n",
    "    ('classifier', GradientBoostingClassifier(random_state=42))\n",
    "])\n",
    "\n",
    "# Train the model\n",
    "start_time = time.time()\n",
    "gb.fit(X_train, y_train)\n",
    "end_time = time.time()\n",
    "\n",
    "# Predict and evaluate\n",
    "y_pred_gb = gb.predict(X_test)\n",
    "accuracy_gb = accuracy_score(y_test, y_pred_gb)\n",
    "precision_gb = precision_score(y_test, y_pred_gb)\n",
    "recall_gb = recall_score(y_test, y_pred_gb)\n",
    "f1_gb = f1_score(y_test, y_pred_gb)\n",
    "cm_gb = confusion_matrix(y_test, y_pred_gb)\n",
    "print(f\"Gradient Boosting Accuracy: {accuracy_gb}\")\n",
    "print(f\"Precision: {precision_gb}\")\n",
    "print(f\"Recall: {recall_gb}\")\n",
    "print(f\"F1 Score: {f1_gb}\")\n",
    "print(f\"Confusion Matrix: \\n{cm_gb}\")\n",
    "print(f\"Time taken: {end_time - start_time} seconds\")\n",
    "\n",
    "# Print classification report\n",
    "print(\"\\nClassification Report:\")\n",
    "print(classification_report(y_test, y_pred_gb))\n"
   ]
  },
  {
   "cell_type": "code",
   "execution_count": null,
   "id": "d9b64820",
   "metadata": {},
   "outputs": [],
   "source": [
    "# Train the model\n",
    "start_time = time.time()\n",
    "rf.fit(X_train, y_train)\n",
    "end_time = time.time()\n",
    "\n",
    "# Predict and evaluate\n",
    "y_pred = rf.predict(X_test)\n",
    "accuracy = accuracy_score(y_test, y_pred)\n",
    "precision = precision_score(y_test, y_pred)\n",
    "recall = recall_score(y_test, y_pred)\n",
    "f1 = f1_score(y_test, y_pred)\n",
    "cm = confusion_matrix(y_test, y_pred)"
   ]
  },
  {
   "cell_type": "code",
   "execution_count": null,
   "id": "0c13d00a",
   "metadata": {},
   "outputs": [],
   "source": [
    "print(f\"RandomForest Accuracy: {accuracy}\")\n",
    "print(f\"Precision: {precision}\")\n",
    "print(f\"Recall: {recall}\")\n",
    "print(f\"F1 Score: {f1}\")\n",
    "print(f\"Confusion Matrix: \\n{cm}\")\n",
    "print(f\"Time taken: {end_time - start_time} seconds\")\n",
    "\n",
    "# Print classification report\n",
    "print(\"\\nClassification Report:\")\n",
    "print(classification_report(y_test, y_pred))\n"
   ]
  },
  {
   "cell_type": "code",
   "execution_count": null,
   "id": "8d66881a",
   "metadata": {
    "scrolled": false
   },
   "outputs": [],
   "source": [
    "# Example input for prediction (more extreme values)\n",
    "input_data_fraud = pd.DataFrame({\n",
    "    'step': [300],  # A later step in the simulation\n",
    "    'customer': ['C9999999999'],  # Assumed to be a new or rare customer ID\n",
    "    'age': ['1'],  # Very young age group\n",
    "    'gender': ['F'],\n",
    "    'zipcodeOri': ['99999'],  # Uncommon zip code\n",
    "    'merchant': ['M999999999'],  # Assumed to be a new or rare merchant ID\n",
    "    'zipMerchant': ['99999'],  # Uncommon merchant zip code\n",
    "    'category': ['es_other'],  # Assumed less common category\n",
    "    'amount': [1000000.00]  # Extremely high amount\n",
    "})\n",
    "\n",
    "# Preprocess input data using the same preprocessor fitted on training data\n",
    "input_data_fraud_transformed = rf.named_steps['preprocessor'].transform(input_data_fraud)\n",
    "\n",
    "# Predict with the trained model\n",
    "predicted_class_fraud = rf.named_steps['classifier'].predict(input_data_fraud_transformed)\n",
    "\n",
    "# Print result based on prediction\n",
    "if predicted_class_fraud[0] == 0:\n",
    "    print(\"Fraud is not detected\")\n",
    "else:\n",
    "    print(\"Fraud is detected\")"
   ]
  },
  {
   "cell_type": "code",
   "execution_count": null,
   "id": "f94730e2",
   "metadata": {},
   "outputs": [],
   "source": []
  }
 ],
 "metadata": {
  "kernelspec": {
   "display_name": "Python 3 (ipykernel)",
   "language": "python",
   "name": "python3"
  },
  "language_info": {
   "codemirror_mode": {
    "name": "ipython",
    "version": 3
   },
   "file_extension": ".py",
   "mimetype": "text/x-python",
   "name": "python",
   "nbconvert_exporter": "python",
   "pygments_lexer": "ipython3",
   "version": "3.10.9"
  }
 },
 "nbformat": 4,
 "nbformat_minor": 5
}
