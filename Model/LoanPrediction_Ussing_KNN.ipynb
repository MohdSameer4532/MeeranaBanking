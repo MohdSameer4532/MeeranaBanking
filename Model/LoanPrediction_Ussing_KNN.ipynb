{
  "cells": [
    {
      "cell_type": "markdown",
      "source": [
        "Random Forest Model"
      ],
      "metadata": {
        "id": "YsnC9SMBPliS"
      }
    },
    {
      "cell_type": "code",
      "execution_count": null,
      "metadata": {
        "id": "vJqn9tLpTh0q",
        "colab": {
          "base_uri": "https://localhost:8080/"
        },
        "outputId": "6625da58-3ca7-4385-a15d-067a244cbb3c"
      },
      "outputs": [
        {
          "output_type": "stream",
          "name": "stdout",
          "text": [
            "Class distribution:\n",
            "Risk_Flag\n",
            "0    0.877\n",
            "1    0.123\n",
            "Name: proportion, dtype: float64\n",
            "\n",
            "Random Forest Model Evaluation:\n",
            "              precision    recall  f1-score   support\n",
            "\n",
            "           0       0.93      0.95      0.94     44259\n",
            "           1       0.60      0.52      0.56      6141\n",
            "\n",
            "    accuracy                           0.90     50400\n",
            "   macro avg       0.77      0.74      0.75     50400\n",
            "weighted avg       0.89      0.90      0.90     50400\n",
            "\n",
            "Accuracy Score: 0.8994\n"
          ]
        }
      ],
      "source": [
        "import pandas as pd\n",
        "import numpy as np\n",
        "from sklearn.model_selection import train_test_split\n",
        "from sklearn.preprocessing import LabelEncoder\n",
        "from sklearn.ensemble import RandomForestClassifier\n",
        "from sklearn.metrics import classification_report, accuracy_score\n",
        "\n",
        "# Load the dataset\n",
        "data_train = pd.read_csv(\"loanapproval.csv\")\n",
        "\n",
        "# Function to clean and preprocess the data\n",
        "def clean_data(df):\n",
        "    # Drop columns that are not needed for prediction\n",
        "    df = df.drop(columns=[\"Id\", \"CITY\", \"STATE\"])\n",
        "\n",
        "    # Convert Risk_Flag to categorical values\n",
        "    df[\"Risk_Flag\"] = df[\"Risk_Flag\"].map({1: \"YES\", 0: \"NO\"})\n",
        "\n",
        "    # Handle missing values by filling with mode or median\n",
        "    for col in df.columns:\n",
        "        if df[col].dtype == 'object':\n",
        "            df[col] = df[col].fillna(df[col].mode()[0])\n",
        "        else:\n",
        "            df[col] = df[col].fillna(df[col].median())\n",
        "\n",
        "    # Remove outliers using the IQR method for numerical columns\n",
        "    num_cols = df.select_dtypes(include=[np.number]).columns\n",
        "    for col in num_cols:\n",
        "        Q1 = df[col].quantile(0.25)\n",
        "        Q3 = df[col].quantile(0.75)\n",
        "        IQR = Q3 - Q1\n",
        "        lower_bound = Q1 - 1.5 * IQR\n",
        "        upper_bound = Q3 + 1.5 * IQR\n",
        "        df = df[(df[col] >= lower_bound) & (df[col] <= upper_bound)]\n",
        "\n",
        "    return df\n",
        "\n",
        "# Clean the training data\n",
        "data_train_cleaned = clean_data(data_train)\n",
        "\n",
        "# Separate continuous and categorical columns for preprocessing\n",
        "continuous_cols = [\"Income\", \"Age\", \"Experience\", \"CURRENT_JOB_YRS\", \"CURRENT_HOUSE_YRS\"]\n",
        "categorical_cols = [\"Married/Single\", \"House_Ownership\", \"Car_Ownership\", \"Profession\"]\n",
        "\n",
        "# Apply log transformation to continuous variables to reduce skewness\n",
        "for col in continuous_cols:\n",
        "    data_train_cleaned[col] = np.log1p(data_train_cleaned[col])\n",
        "\n",
        "# Label Encoding for categorical variables\n",
        "label_encoders = {}\n",
        "for col in categorical_cols:\n",
        "    le = LabelEncoder()\n",
        "    data_train_cleaned[col] = le.fit_transform(data_train_cleaned[col])\n",
        "    label_encoders[col] = le\n",
        "\n",
        "# Encode the target variable\n",
        "target_encoder = LabelEncoder()\n",
        "data_train_cleaned[\"Risk_Flag\"] = target_encoder.fit_transform(data_train_cleaned[\"Risk_Flag\"])\n",
        "\n",
        "# Define features (X) and target (y)\n",
        "X = data_train_cleaned.drop(columns=['Risk_Flag'])\n",
        "y = data_train_cleaned['Risk_Flag']\n",
        "\n",
        "# Check class distribution in the target variable\n",
        "print(\"Class distribution:\")\n",
        "print(y.value_counts(normalize=True))\n",
        "\n",
        "# Split the data into training and test sets\n",
        "X_train, X_test, y_train, y_test = train_test_split(X, y, test_size=0.2, random_state=0)\n",
        "\n",
        "# Train a Random Forest classifier\n",
        "model_rf = RandomForestClassifier(random_state=0)\n",
        "model_rf.fit(X_train, y_train)\n",
        "\n",
        "# Predict on the test set\n",
        "y_pred_rf = model_rf.predict(X_test)\n",
        "\n",
        "# Evaluate the model\n",
        "print(\"\\nRandom Forest Model Evaluation:\")\n",
        "print(classification_report(y_test, y_pred_rf))\n",
        "print(f\"Accuracy Score: {accuracy_score(y_test, y_pred_rf):.4f}\")\n",
        "\n",
        "# Function to predict loan risk for a single input\n",
        "def predict_loan_risk(input_data):\n",
        "    input_df = pd.DataFrame([input_data])\n",
        "    input_encoded = input_df.copy()\n",
        "\n",
        "    # Apply log transformation to continuous variables\n",
        "    for col in continuous_cols:\n",
        "        input_encoded[col] = np.log1p(input_encoded[col])\n",
        "\n",
        "    # Label encode categorical variables\n",
        "    for col in categorical_cols:\n",
        "        le = label_encoders[col]\n",
        "        input_encoded[col] = le.transform(input_encoded[col])\n",
        "\n",
        "    # Ensure input DataFrame has the same columns as training data\n",
        "    input_encoded = input_encoded[X.columns]\n",
        "\n",
        "    # Predict probability and make the final prediction\n",
        "    prob = model_rf.predict_proba(input_encoded)[0, 1]\n",
        "    prediction = 'Yes' if prob >= 0.5 else 'No'\n",
        "    return prediction, prob\n",
        "\n"
      ]
    },
    {
      "cell_type": "code",
      "source": [
        "# Test the prediction function with a sample input\n",
        "sample_input = {\n",
        "    'Income': 4866477,\n",
        "    'Age': 62,\n",
        "    'Experience': 13,\n",
        "    'Married/Single': 'married',\n",
        "    'House_Ownership': 'rented',\n",
        "    'Car_Ownership': 'no',\n",
        "    'Profession': 'Chef',\n",
        "    'CURRENT_JOB_YRS': 11,\n",
        "    'CURRENT_HOUSE_YRS': 14\n",
        "}\n",
        "\n",
        "prediction, probability = predict_loan_risk(sample_input)\n",
        "print(f\"\\nPredicted Loan Risk: {prediction}\")\n",
        "print(f\"Probability of Yes: {probability:.4f}\")"
      ],
      "metadata": {
        "colab": {
          "base_uri": "https://localhost:8080/"
        },
        "id": "Vy-SlPUpJ5uE",
        "outputId": "e02ec060-e8d7-49bd-935c-903a683f0ee8"
      },
      "execution_count": null,
      "outputs": [
        {
          "output_type": "stream",
          "name": "stdout",
          "text": [
            "\n",
            "Predicted Loan Risk: No\n",
            "Probability of Yes: 0.0838\n"
          ]
        }
      ]
    },
    {
      "cell_type": "markdown",
      "source": [
        "    'Income': 6256451,\n",
        "    'Age': 41,\n",
        "    'Experience': 2,\n",
        "    'Married/Single': 'single',\n",
        "    'House_Ownership': 'rented',\n",
        "    'Car_Ownership': 'yes',\n",
        "    'Profession': 'Software_Developer',\n",
        "    'CURRENT_JOB_YRS': 2,\n",
        "    'CURRENT_HOUSE_YRS': 12\n",
        "\n",
        "\n",
        "    'Income': 251994,\n",
        "    'Age': 22,\n",
        "    'Experience': 3,\n",
        "    'Married/Single': 'single',\n",
        "    'House_Ownership': 'rented',\n",
        "    'Car_Ownership': 'no',\n",
        "    'Profession': 'Mechanical_engineer',\n",
        "    'CURRENT_JOB_YRS': 3,\n",
        "    'CURRENT_HOUSE_YRS': 13"
      ],
      "metadata": {
        "id": "bXADveTFHsxj"
      }
    },
    {
      "cell_type": "code",
      "source": [],
      "metadata": {
        "id": "606NO839M2e7"
      },
      "execution_count": null,
      "outputs": []
    }
  ],
  "metadata": {
    "colab": {
      "provenance": []
    },
    "kernelspec": {
      "display_name": "Python 3",
      "name": "python3"
    },
    "language_info": {
      "name": "python"
    }
  },
  "nbformat": 4,
  "nbformat_minor": 0
}